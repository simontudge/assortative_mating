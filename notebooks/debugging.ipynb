{
 "cells": [
  {
   "cell_type": "markdown",
   "metadata": {
    "collapsed": true
   },
   "source": [
    "Let's try and do a game in which delta=0 and see if this conforms to expectations, if this is right then the problem may be with the bias meiosis mechanism."
   ]
  },
  {
   "cell_type": "code",
   "execution_count": 5,
   "metadata": {
    "collapsed": false
   },
   "outputs": [],
   "source": [
    "from assortative_mating import *\n",
    "from assortative_mating.objects.individual import constant_assortment_individual as CI\n",
    "from assortative_mating.helpers.game_theory_helpers import *\n",
    "%matplotlib inline\n",
    "import matplotlib.pyplot as plt\n",
    "import numpy as np"
   ]
  },
  {
   "cell_type": "code",
   "execution_count": 50,
   "metadata": {
    "collapsed": false
   },
   "outputs": [],
   "source": [
    "#A function without an argument that returns an individual with zero assortment\n",
    "def no_assort():\n",
    "    return CI(0)\n",
    "s, delta = 1., 0.9\n",
    "def fairness(h):\n",
    "    mod = Model.from_function( no_assort, 128, h = h, delta= delta, s = s, graphs = False )\n",
    "    mod.go()\n",
    "    return mod.final_fairness"
   ]
  },
  {
   "cell_type": "code",
   "execution_count": null,
   "metadata": {
    "collapsed": false
   },
   "outputs": [],
   "source": [
    "x = np.linspace( -5,2 , 21 )\n",
    "y = list(map(fairness,x))"
   ]
  },
  {
   "cell_type": "code",
   "execution_count": null,
   "metadata": {
    "collapsed": false
   },
   "outputs": [],
   "source": [
    "plt.figure( figsize = (16,9) )\n",
    "plt.scatter(x,y)\n",
    "##Expected ESS\n",
    "y2 = [ ESS_h_s_delta(h,s,delta) for h in x ]\n",
    "plt.plot(x,y2)"
   ]
  },
  {
   "cell_type": "code",
   "execution_count": 44,
   "metadata": {
    "collapsed": false
   },
   "outputs": [
    {
     "data": {
      "text/plain": [
       "(-0.1, 1.1)"
      ]
     },
     "execution_count": 44,
     "metadata": {},
     "output_type": "execute_result"
    },
    {
     "data": {
      "image/png": "[encoded data removed]",
      "text/plain": [
       "<matplotlib.figure.Figure at 0x7f718b7ec080>"
      ]
     },
     "metadata": {},
     "output_type": "display_data"
    }
   ],
   "source": [
    "m1,m2 = 1,1\n",
    "def p_select(delta):\n",
    "    p_select_m1 = 0.5*( 1 + ( 1 - m1 )*delta - (1 - m2 )*delta )\n",
    "    return p_select_m1\n",
    "plt.figure()\n",
    "x = np.linspace( 0, 1, 11 )\n",
    "plt.plot(x , list( map(p_select, x) ))\n",
    "plt.ylim([-0.1,1.1])"
   ]
  },
  {
   "cell_type": "markdown",
   "metadata": {},
   "source": [
    "Everything seems to be as expected, let's do an ST sweep"
   ]
  },
  {
   "cell_type": "code",
   "execution_count": 10,
   "metadata": {
    "collapsed": true
   },
   "outputs": [],
   "source": [
    "from assortative_mating.helpers.game_theory_helpers import hd_from_STs\n",
    "def fairness_ST(S,T):\n",
    "    \"\"\"\n",
    "    Return the fairness as a function of S and T\n",
    "    \n",
    "    \"\"\"\n",
    "    s = 1\n",
    "    _,delta = hd_from_STs( S, T, s = s )\n",
    "    try:\n",
    "        h = -T/S\n",
    "    except ZeroDivisionError:\n",
    "        h = 99999\n",
    "    mod = Model.from_function( no_assort, 128, h = h, delta= delta, s = s, graphs = False )\n",
    "    mod.go()\n",
    "    return mod.final_fairness"
   ]
  },
  {
   "cell_type": "code",
   "execution_count": 45,
   "metadata": {
    "collapsed": false
   },
   "outputs": [],
   "source": [
    "import sweepy"
   ]
  },
  {
   "cell_type": "code",
   "execution_count": null,
   "metadata": {
    "collapsed": false
   },
   "outputs": [],
   "source": [
    "sweepy.sweep_func( fairness_ST, [ ['T', 0,2,11], ['S', -1, 1, 11] ] );"
   ]
  },
  {
   "cell_type": "code",
   "execution_count": null,
   "metadata": {
    "collapsed": false
   },
   "outputs": [],
   "source": [
    "h,delta = 0.1, 1.1\n",
    "S,T = get_ST( h = h, delta = delta, s= 1)\n",
    "print( np.array( [[ 0, (1-h)*(1-delta)],[ (1-h)*(1+delta),1 ] ]  )  )\n",
    "print( np.array( [[ 0, S ],[ T,1 ] ]  )  )"
   ]
  },
  {
   "cell_type": "code",
   "execution_count": null,
   "metadata": {
    "collapsed": false
   },
   "outputs": [],
   "source": []
  },
  {
   "cell_type": "code",
   "execution_count": 47,
   "metadata": {
    "collapsed": true
   },
   "outputs": [],
   "source": [
    "def fairness_hd(h,delta):\n",
    "    \"\"\"\n",
    "    Fairness as a function of h and delta.\n",
    "    \"\"\"\n",
    "    s = 1\n",
    "    mod = Model.from_function( no_assort, 128, h = h, delta= delta, s = s, graphs = False )\n",
    "    mod.go()\n",
    "    return mod.final_fairness"
   ]
  },
  {
   "cell_type": "code",
   "execution_count": 49,
   "metadata": {
    "collapsed": false,
    "scrolled": true
   },
   "outputs": [
    {
     "name": "stderr",
     "output_type": "stream",
     "text": [
      "/home/simontudge/anaconda3/lib/python3.5/site-packages/matplotlib/collections.py:590: FutureWarning: elementwise comparison failed; returning scalar instead, but in the future will perform elementwise comparison\n",
      "  if self._edgecolors == str('face'):\n"
     ]
    },
    {
     "data": {
      "image/png": "[encoded data removed]",
      "text/plain": [
       "<matplotlib.figure.Figure at 0x7f718b61b0f0>"
      ]
     },
     "metadata": {},
     "output_type": "display_data"
    }
   ],
   "source": [
    "sweepy.sweep_func( fairness_hd, [ ['h', 0, 2, 21 ], ['delta', 0, 1, 21] ] );"
   ]
  },
  {
   "cell_type": "markdown",
   "metadata": {},
   "source": [
    "Let's have a look at the random choice function"
   ]
  },
  {
   "cell_type": "code",
   "execution_count": null,
   "metadata": {
    "collapsed": true
   },
   "outputs": [],
   "source": []
  }
 ],
 "metadata": {
  "kernelspec": {
   "display_name": "Python 3",
   "language": "python",
   "name": "python3"
  },
  "language_info": {
   "codemirror_mode": {
    "name": "ipython",
    "version": 3
   },
   "file_extension": ".py",
   "mimetype": "text/x-python",
   "name": "python",
   "nbconvert_exporter": "python",
   "pygments_lexer": "ipython3",
   "version": "3.5.0"
  }
 },
 "nbformat": 4,
 "nbformat_minor": 0
}
